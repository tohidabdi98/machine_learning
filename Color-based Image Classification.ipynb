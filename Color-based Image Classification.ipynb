{
 "cells": [
  {
   "cell_type": "code",
   "execution_count": 1,
   "metadata": {},
   "outputs": [],
   "source": [
    "import cv2\n",
    "import glob\n",
    "import matplotlib.pyplot as plt\n",
    "import numpy as np\n",
    "import pandas as pd\n",
    "from sklearn.metrics import confusion_matrix"
   ]
  },
  {
   "cell_type": "code",
   "execution_count": 2,
   "metadata": {},
   "outputs": [],
   "source": [
    "def calculate_average_colors(image_paths):\n",
    "    \"\"\"\n",
    "    Calculate the average RGB color values for a list of images.\n",
    "\n",
    "    Args:\n",
    "        image_paths (list): List of image file paths.\n",
    "\n",
    "    Returns:\n",
    "        list: List of average color values.\n",
    "    \"\"\"\n",
    "    average_colors = []\n",
    "    for img_path in image_paths:\n",
    "        img = cv2.imread(img_path)\n",
    "        average_color = img.mean(axis=0).mean(axis=0)\n",
    "        average_colors.append(average_color)\n",
    "    return average_colors"
   ]
  },
  {
   "cell_type": "code",
   "execution_count": 3,
   "metadata": {},
   "outputs": [],
   "source": [
    "def extract_red_blue_colors(average_colors):\n",
    "    \"\"\"\n",
    "    Extract the red and blue color values from a list of average colors.\n",
    "\n",
    "    Args:\n",
    "        average_colors (list): List of average color values.\n",
    "\n",
    "    Returns:\n",
    "        tuple: Tuple of lists containing the red and blue color values.\n",
    "    \"\"\"\n",
    "    red_values, blue_values = zip(*[(color[0], color[2]) for color in average_colors])\n",
    "    return red_values, blue_values"
   ]
  },
  {
   "cell_type": "code",
   "execution_count": 4,
   "metadata": {},
   "outputs": [],
   "source": [
    "def plot_color_scatter(x_c, y_c, x_m, y_m):\n",
    "    \"\"\"\n",
    "    Plot a scatter plot of colors for Chelsea and Manchester.\n",
    "\n",
    "    Args:\n",
    "        x_c (list): List of x-axis values for Chelsea.\n",
    "        y_c (list): List of y-axis values for Chelsea.\n",
    "        x_m (list): List of x-axis values for Manchester.\n",
    "        y_m (list): List of y-axis values for Manchester.\n",
    "    \"\"\"\n",
    "    plt.scatter(x_c, y_c, c='b', label='Chelsea')\n",
    "    plt.scatter(x_m, y_m, c='r', label='Manchester')\n",
    "    plt.legend()\n",
    "    plt.xlabel('Red')\n",
    "    plt.ylabel('Blue')\n",
    "    plt.title('Color Scatter Plot')\n",
    "    plt.show()"
   ]
  },
  {
   "cell_type": "code",
   "execution_count": 5,
   "metadata": {},
   "outputs": [],
   "source": [
    "def calculate_metrics(actual, predicted):\n",
    "    \"\"\"\n",
    "    Calculate accuracy, precision, and recall based on actual and predicted labels.\n",
    "\n",
    "    Args:\n",
    "        actual (array-like): Array of actual class labels.\n",
    "        predicted (array-like): Array of predicted class labels.\n",
    "\n",
    "    Returns:\n",
    "        float: Accuracy value.\n",
    "        float: Precision value.\n",
    "        float: Recall value.\n",
    "    \"\"\"\n",
    "    cnf = confusion_matrix(actual, predicted)\n",
    "    accuracy = np.diag(cnf).sum() / cnf.sum()\n",
    "    precision = cnf[0][0] / cnf[:, 0].sum()\n",
    "    recall = cnf[0][0] / cnf[0, :].sum()\n",
    "    return accuracy, precision, recall"
   ]
  },
  {
   "cell_type": "code",
   "execution_count": 6,
   "metadata": {},
   "outputs": [],
   "source": [
    "# Get the paths of \"c\" images\n",
    "c_image_paths = glob.glob(\"data/Images/c*.jpg\")\n",
    "\n",
    "# Calculate average color values for \"c\" images\n",
    "average_c = calculate_average_colors(c_image_paths)\n",
    "x_c, y_c = extract_red_blue_colors(average_c)\n",
    "\n",
    "# Get the paths of \"m\" images\n",
    "m_image_paths = glob.glob(\"data/Images/m*.jpg\")\n",
    "\n",
    "# Calculate average color values for \"m\" images\n",
    "average_m = calculate_average_colors(m_image_paths)\n",
    "x_m, y_m = extract_red_blue_colors(average_m)"
   ]
  },
  {
   "cell_type": "code",
   "execution_count": 7,
   "metadata": {},
   "outputs": [
    {
     "data": {
      "image/png": "[encoded data removed]",
      "text/plain": [
       "<Figure size 640x480 with 1 Axes>"
      ]
     },
     "metadata": {},
     "output_type": "display_data"
    }
   ],
   "source": [
    "# Visualize the data\n",
    "plot_color_scatter(x_c, y_c, x_m, y_m)"
   ]
  },
  {
   "cell_type": "code",
   "execution_count": 8,
   "metadata": {},
   "outputs": [],
   "source": [
    "# Create DataFrames for Chelsea and Manchester\n",
    "chelsea_data = {'red': x_c, 'blue': y_c, 'class': 0}\n",
    "chelsea = pd.DataFrame(chelsea_data)\n",
    "\n",
    "manchester_data = {'red': x_m, 'blue': y_m, 'class': 1}\n",
    "manchester = pd.DataFrame(manchester_data)\n",
    "\n",
    "# Concatenate the DataFrames\n",
    "df = pd.concat([chelsea, manchester])"
   ]
  },
  {
   "cell_type": "code",
   "execution_count": 9,
   "metadata": {},
   "outputs": [],
   "source": [
    "# Classify images based on color threshold\n",
    "df['predict'] = np.where(df['red'] + 13 > df['blue'], 0, 1)"
   ]
  },
  {
   "cell_type": "code",
   "execution_count": 10,
   "metadata": {},
   "outputs": [
    {
     "name": "stdout",
     "output_type": "stream",
     "text": [
      "Accuracy: 93.44262295081968 %\n",
      "Precision: 93.75 %\n",
      "Recall: 93.75 %\n"
     ]
    }
   ],
   "source": [
    "# Calculate metrics\n",
    "accuracy, precision, recall = calculate_metrics(df['class'], df['predict'])\n",
    "\n",
    "# Print the results\n",
    "print('Accuracy:', accuracy * 100, '%')\n",
    "print('Precision:', precision * 100, '%')\n",
    "print('Recall:', recall * 100, '%')"
   ]
  }
 ],
 "metadata": {
  "kernelspec": {
   "display_name": "Python 3",
   "language": "python",
   "name": "python3"
  },
  "language_info": {
   "codemirror_mode": {
    "name": "ipython",
    "version": 3
   },
   "file_extension": ".py",
   "mimetype": "text/x-python",
   "name": "python",
   "nbconvert_exporter": "python",
   "pygments_lexer": "ipython3",
   "version": "3.11.4"
  },
  "orig_nbformat": 4
 },
 "nbformat": 4,
 "nbformat_minor": 2
}
