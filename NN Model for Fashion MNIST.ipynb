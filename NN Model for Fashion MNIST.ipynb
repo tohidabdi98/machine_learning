{
 "cells": [
  {
   "cell_type": "code",
   "execution_count": 1,
   "metadata": {},
   "outputs": [],
   "source": [
    "import numpy as np\n",
    "import tensorflow as tf\n",
    "from tensorflow import keras\n",
    "import matplotlib.pyplot as plt\n",
    "from sklearn.metrics import confusion_matrix, precision_recall_fscore_support"
   ]
  },
  {
   "cell_type": "code",
   "execution_count": 2,
   "metadata": {},
   "outputs": [],
   "source": [
    "# Load the Fashion MNIST dataset\n",
    "def load_fashion_mnist():\n",
    "    (x_train, y_train), (x_test, y_test) = keras.datasets.fashion_mnist.load_data()\n",
    "    x_train = x_train.reshape((60000, 784)) / 255.0\n",
    "    x_test = x_test.reshape((10000, 784)) / 255.0\n",
    "    return (x_train, y_train), (x_test, y_test)"
   ]
  },
  {
   "cell_type": "code",
   "execution_count": 3,
   "metadata": {},
   "outputs": [],
   "source": [
    "# Split the training data into training and validation sets\n",
    "def split_validation_data(x_train, y_train):\n",
    "    x_valid, x_train = x_train[:10000], x_train[10000:]\n",
    "    y_valid, y_train = y_train[:10000], y_train[10000:]\n",
    "    return (x_valid, y_valid), (x_train, y_train)"
   ]
  },
  {
   "cell_type": "code",
   "execution_count": 4,
   "metadata": {},
   "outputs": [],
   "source": [
    "# Define the neural network model\n",
    "def build_model(input_shape, num_hidden_units, num_classes, activation='relu'):\n",
    "    model = keras.models.Sequential([\n",
    "        keras.layers.Flatten(input_shape=input_shape),\n",
    "        keras.layers.Dense(num_hidden_units[0], activation=activation),\n",
    "        keras.layers.Dense(num_hidden_units[1], activation=activation),\n",
    "        keras.layers.Dense(num_classes, activation='softmax')\n",
    "    ])\n",
    "    return model"
   ]
  },
  {
   "cell_type": "code",
   "execution_count": 5,
   "metadata": {},
   "outputs": [],
   "source": [
    "# Compile and train the model\n",
    "def compile_and_train_model(model, loss, optimizer, batch_size, epochs, x_train, y_train, x_valid, y_valid):\n",
    "    model.compile(loss=loss, optimizer=optimizer, metrics=['accuracy'])\n",
    "    history = model.fit(x_train, y_train, epochs=epochs, batch_size=batch_size, validation_data=(x_valid, y_valid))\n",
    "    return history"
   ]
  },
  {
   "cell_type": "code",
   "execution_count": 6,
   "metadata": {},
   "outputs": [],
   "source": [
    "# Plot the training history\n",
    "def plot_training_history(history):\n",
    "    pd.DataFrame(history.history).plot(figsize=(8, 5))\n",
    "    plt.grid(True)\n",
    "    plt.show()"
   ]
  },
  {
   "cell_type": "code",
   "execution_count": 7,
   "metadata": {},
   "outputs": [],
   "source": [
    "# Evaluate the model on the test set\n",
    "def evaluate_model(model, x_test, y_test):\n",
    "    test_loss, test_accuracy = model.evaluate(x_test, y_test)\n",
    "    y_pred = model.predict_classes(x_test)\n",
    "    cnf = confusion_matrix(y_test, y_pred)\n",
    "    prf = precision_recall_fscore_support(y_test, y_pred, average='macro')\n",
    "    \n",
    "    print('Test Loss:', test_loss)\n",
    "    print('Test Accuracy:', test_accuracy)\n",
    "    print('Confusion Matrix:\\n', cnf)\n",
    "    print('F1-Score:', prf[2])\n",
    "    print('Recall:', prf[1])\n",
    "    print('Precision:', prf[0])"
   ]
  },
  {
   "cell_type": "code",
   "execution_count": 8,
   "metadata": {},
   "outputs": [],
   "source": [
    "# Main function to run the experiments\n",
    "def main():\n",
    "    np.random.seed(0)\n",
    "    tf.random.set_seed(0)\n",
    "\n",
    "    # Load Fashion MNIST dataset\n",
    "    (x_train, y_train), (x_test, y_test) = load_fashion_mnist()\n",
    "\n",
    "    # Split data into training and validation sets\n",
    "    (x_valid, y_valid), (x_train, y_train) = split_validation_data(x_train, y_train)\n",
    "\n",
    "    # Hyperparameters\n",
    "    num_hidden_units = [50, 50]\n",
    "    num_classes = 10\n",
    "    activation = 'relu'\n",
    "    loss = 'sparse_categorical_crossentropy'\n",
    "    optimizer = 'sgd'\n",
    "    batch_size = 16\n",
    "    epochs = 1000\n",
    "\n",
    "    # Build, compile, and train the model\n",
    "    model = build_model(input_shape=(784,), num_hidden_units=num_hidden_units, num_classes=num_classes, activation=activation)\n",
    "    history = compile_and_train_model(model, loss=loss, optimizer=optimizer, batch_size=batch_size, epochs=epochs,\n",
    "                                      x_train=x_train, y_train=y_train, x_valid=x_valid, y_valid=y_valid)\n",
    "\n",
    "    # Plot training history and evaluate the model\n",
    "    plot_training_history(history)\n",
    "    evaluate_model(model, x_test, y_test)"
   ]
  },
  {
   "cell_type": "code",
   "execution_count": null,
   "metadata": {},
   "outputs": [],
   "source": [
    "main()"
   ]
  }
 ],
 "metadata": {
  "kernelspec": {
   "display_name": "Python 3",
   "language": "python",
   "name": "python3"
  },
  "language_info": {
   "codemirror_mode": {
    "name": "ipython",
    "version": 3
   },
   "file_extension": ".py",
   "mimetype": "text/x-python",
   "name": "python",
   "nbconvert_exporter": "python",
   "pygments_lexer": "ipython3",
   "version": "3.11.4"
  },
  "orig_nbformat": 4
 },
 "nbformat": 4,
 "nbformat_minor": 2
}
