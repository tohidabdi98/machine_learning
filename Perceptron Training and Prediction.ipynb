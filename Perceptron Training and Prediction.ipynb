{
 "cells": [
  {
   "cell_type": "code",
   "execution_count": 1,
   "metadata": {},
   "outputs": [],
   "source": [
    "# Define the training dataset\n",
    "dataset = [\n",
    "    [0, 0, 0],\n",
    "    [1, -1, 0],\n",
    "    [1, 1, 0],\n",
    "    [2, -2, 0],\n",
    "    [2, 2, 0],\n",
    "    [3, -3, 0],\n",
    "    [3, 3, 0],\n",
    "    [2, 0, 1],\n",
    "    [2.5, 0, 1],\n",
    "    [3, 0, 1]\n",
    "]"
   ]
  },
  {
   "cell_type": "code",
   "execution_count": 2,
   "metadata": {},
   "outputs": [],
   "source": [
    "# Define the prediction function\n",
    "def predict(row, weights):\n",
    "    # Initialize the activation with the bias weight (weights[0])\n",
    "    activation = weights[0]\n",
    "    for i in range(len(row) - 1):\n",
    "        # Sum the product of input features and corresponding weights\n",
    "        activation += weights[i + 1] * row[i]\n",
    "    # Apply the activation function (step function)\n",
    "    return 1.0 if activation >= 0.0 else 0.0"
   ]
  },
  {
   "cell_type": "code",
   "execution_count": 3,
   "metadata": {},
   "outputs": [],
   "source": [
    "# Define the training function\n",
    "def train_weights(data, learning_rate, epochs):\n",
    "    # Initialize weights with zeros\n",
    "    weights = [0.0 for _ in range(len(data[0]))]\n",
    "    for epoch in range(epochs):\n",
    "        sum_error = 0.0\n",
    "        for row in data:\n",
    "            # Make a prediction using current weights\n",
    "            prediction = predict(row, weights)\n",
    "            # Calculate the prediction error\n",
    "            error = row[-1] - prediction\n",
    "            # Update the bias weight (weights[0])\n",
    "            weights[0] = weights[0] + learning_rate * error\n",
    "            for i in range(len(row) - 1):\n",
    "                # Update other weights\n",
    "                weights[i + 1] = weights[i + 1] + learning_rate * error * row[i]\n",
    "            # Calculate the sum of squared errors for this epoch\n",
    "            sum_error += error ** 2\n",
    "        # Print epoch information\n",
    "        print('epoch=%d, learning_rate=%.3f, error=%.3f' % (epoch, learning_rate, sum_error))\n",
    "    return weights"
   ]
  },
  {
   "cell_type": "code",
   "execution_count": 4,
   "metadata": {},
   "outputs": [
    {
     "name": "stdout",
     "output_type": "stream",
     "text": [
      "epoch=0, learning_rate=0.100, error=2.000\n",
      "epoch=1, learning_rate=0.100, error=4.000\n",
      "epoch=2, learning_rate=0.100, error=4.000\n",
      "epoch=3, learning_rate=0.100, error=3.000\n",
      "epoch=4, learning_rate=0.100, error=2.000\n"
     ]
    }
   ],
   "source": [
    "# Train the perceptron model with the dataset\n",
    "weights = train_weights(dataset, 0.1, 5)"
   ]
  },
  {
   "cell_type": "code",
   "execution_count": 5,
   "metadata": {},
   "outputs": [
    {
     "name": "stdout",
     "output_type": "stream",
     "text": [
      "Expected=0, Predicted=0\n",
      "Expected=0, Predicted=0\n",
      "Expected=0, Predicted=0\n",
      "Expected=0, Predicted=0\n",
      "Expected=0, Predicted=1\n",
      "Expected=0, Predicted=0\n",
      "Expected=0, Predicted=1\n",
      "Expected=1, Predicted=0\n",
      "Expected=1, Predicted=1\n",
      "Expected=1, Predicted=1\n"
     ]
    }
   ],
   "source": [
    "# Make predictions and print expected vs. predicted values\n",
    "for row in dataset:\n",
    "    prediction = predict(row, weights)\n",
    "    print(\"Expected=%d, Predicted=%d\" % (row[-1], prediction))"
   ]
  }
 ],
 "metadata": {
  "kernelspec": {
   "display_name": "base",
   "language": "python",
   "name": "python3"
  },
  "language_info": {
   "codemirror_mode": {
    "name": "ipython",
    "version": 3
   },
   "file_extension": ".py",
   "mimetype": "text/x-python",
   "name": "python",
   "nbconvert_exporter": "python",
   "pygments_lexer": "ipython3",
   "version": "3.10.9"
  },
  "orig_nbformat": 4
 },
 "nbformat": 4,
 "nbformat_minor": 2
}
