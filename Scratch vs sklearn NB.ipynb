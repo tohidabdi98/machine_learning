{
 "cells": [
  {
   "cell_type": "code",
   "execution_count": 1,
   "metadata": {},
   "outputs": [],
   "source": [
    "from sklearn import datasets\n",
    "from math import exp, sqrt, pi\n",
    "from sklearn.metrics import confusion_matrix, accuracy_score\n",
    "from sklearn.naive_bayes import GaussianNB\n",
    "import pandas as pd"
   ]
  },
  {
   "cell_type": "code",
   "execution_count": 2,
   "metadata": {},
   "outputs": [],
   "source": [
    "def load_iris_dataset():\n",
    "    iris = datasets.load_iris()\n",
    "    df = pd.DataFrame(data=iris.data, columns=iris.feature_names)\n",
    "    df['target'] = iris.target\n",
    "    return df"
   ]
  },
  {
   "cell_type": "code",
   "execution_count": 3,
   "metadata": {},
   "outputs": [],
   "source": [
    "def summarize_dataset(dataset):\n",
    "    return [(mean, std, count) for mean, std, count in zip(dataset.mean(), dataset.std(), dataset.count())]"
   ]
  },
  {
   "cell_type": "code",
   "execution_count": 4,
   "metadata": {},
   "outputs": [],
   "source": [
    "def separate_by_class(dataset):\n",
    "    return dataset.groupby('target')"
   ]
  },
  {
   "cell_type": "code",
   "execution_count": 5,
   "metadata": {},
   "outputs": [],
   "source": [
    "def summarize_by_class(dataset):\n",
    "    separated = separate_by_class(dataset)\n",
    "    summaries = {}\n",
    "    for class_value, group in separated:\n",
    "        summaries[class_value] = summarize_dataset(group.drop('target', axis=1))\n",
    "    return summaries"
   ]
  },
  {
   "cell_type": "code",
   "execution_count": 6,
   "metadata": {},
   "outputs": [],
   "source": [
    "def calculate_probability(x, mean, stdev):\n",
    "    exponent = exp(-((x - mean)**2 / (2 * stdev**2)))\n",
    "    return (1 / (sqrt(2 * pi) * stdev)) * exponent"
   ]
  },
  {
   "cell_type": "code",
   "execution_count": 7,
   "metadata": {},
   "outputs": [],
   "source": [
    "def calculate_class_probabilities(summaries, row):\n",
    "    total_rows = sum([summaries[label][0][2] for label in summaries])\n",
    "    probabilities = {}\n",
    "    for class_value, class_summaries in summaries.items():\n",
    "        probabilities[class_value] = summaries[class_value][0][2] / float(total_rows)\n",
    "        for i, (mean, stdev, _) in enumerate(class_summaries):\n",
    "            probabilities[class_value] *= calculate_probability(row[i], mean, stdev)\n",
    "    return probabilities"
   ]
  },
  {
   "cell_type": "code",
   "execution_count": 8,
   "metadata": {},
   "outputs": [],
   "source": [
    "def predict(summaries, row):\n",
    "    probabilities = calculate_class_probabilities(summaries, row)\n",
    "    return int(max(probabilities, key=probabilities.get))"
   ]
  },
  {
   "cell_type": "code",
   "execution_count": 9,
   "metadata": {},
   "outputs": [],
   "source": [
    "def train_naive_bayes_scratch(dataset):\n",
    "    summaries = summarize_by_class(dataset)\n",
    "    predictions = [predict(summaries, row[:-1]) for _, row in dataset.iterrows()]\n",
    "    return predictions"
   ]
  },
  {
   "cell_type": "code",
   "execution_count": 10,
   "metadata": {},
   "outputs": [],
   "source": [
    "def train_naive_bayes_sklearn(X, y):\n",
    "    gnb = GaussianNB()\n",
    "    naive_bayes_pred = gnb.fit(X, y).predict(X)\n",
    "    return naive_bayes_pred"
   ]
  },
  {
   "cell_type": "code",
   "execution_count": 11,
   "metadata": {},
   "outputs": [],
   "source": [
    "# Load Iris dataset\n",
    "iris_df = load_iris_dataset()"
   ]
  },
  {
   "cell_type": "code",
   "execution_count": 12,
   "metadata": {},
   "outputs": [
    {
     "name": "stdout",
     "output_type": "stream",
     "text": [
      "Confusion Matrix (Scratch):\n",
      "[[50  0  0]\n",
      " [ 0 47  3]\n",
      " [ 0  3 47]]\n",
      "Accuracy Score (Scratch): 0.96\n"
     ]
    }
   ],
   "source": [
    "# Train Naive Bayes from scratch\n",
    "naive_bayes_scratch_pred = train_naive_bayes_scratch(iris_df)\n",
    "\n",
    "# Add scratch predictions to the DataFrame\n",
    "iris_df['naive_bayes_scratch_pred'] = naive_bayes_scratch_pred\n",
    "\n",
    "# Calculate and print confusion matrix and accuracy score for scratch predictions\n",
    "cnf_scratch = confusion_matrix(iris_df['target'], iris_df['naive_bayes_scratch_pred'])\n",
    "acc_scratch = accuracy_score(iris_df['target'], iris_df['naive_bayes_scratch_pred'])\n",
    "print(\"Confusion Matrix (Scratch):\")\n",
    "print(cnf_scratch)\n",
    "print(\"Accuracy Score (Scratch):\", acc_scratch)"
   ]
  },
  {
   "cell_type": "code",
   "execution_count": 13,
   "metadata": {},
   "outputs": [
    {
     "name": "stdout",
     "output_type": "stream",
     "text": [
      "Confusion Matrix (scikit-learn):\n",
      "[[50  0  0]\n",
      " [ 0 47  3]\n",
      " [ 0  3 47]]\n",
      "Accuracy Score (scikit-learn): 0.96\n"
     ]
    }
   ],
   "source": [
    "# Train Naive Bayes using scikit-learn\n",
    "naive_bayes_sklearn_pred = train_naive_bayes_sklearn(iris_df.drop('target', axis=1), iris_df['target'])\n",
    "\n",
    "# Add scikit-learn predictions to the DataFrame\n",
    "iris_df['naive_bayes_sklearn_pred'] = naive_bayes_sklearn_pred\n",
    "\n",
    "# Calculate and print confusion matrix and accuracy score for scikit-learn predictions\n",
    "cnf_sklearn = confusion_matrix(iris_df['target'], iris_df['naive_bayes_sklearn_pred'])\n",
    "acc_sklearn = accuracy_score(iris_df['target'], iris_df['naive_bayes_sklearn_pred'])\n",
    "print(\"Confusion Matrix (scikit-learn):\")\n",
    "print(cnf_sklearn)\n",
    "print(\"Accuracy Score (scikit-learn):\", acc_sklearn)"
   ]
  },
  {
   "cell_type": "code",
   "execution_count": 14,
   "metadata": {},
   "outputs": [
    {
     "name": "stdout",
     "output_type": "stream",
     "text": [
      "Updated DataFrame:\n",
      "     sepal length (cm)  sepal width (cm)  petal length (cm)  petal width (cm)  \\\n",
      "0                  5.1               3.5                1.4               0.2   \n",
      "1                  4.9               3.0                1.4               0.2   \n",
      "2                  4.7               3.2                1.3               0.2   \n",
      "3                  4.6               3.1                1.5               0.2   \n",
      "4                  5.0               3.6                1.4               0.2   \n",
      "..                 ...               ...                ...               ...   \n",
      "145                6.7               3.0                5.2               2.3   \n",
      "146                6.3               2.5                5.0               1.9   \n",
      "147                6.5               3.0                5.2               2.0   \n",
      "148                6.2               3.4                5.4               2.3   \n",
      "149                5.9               3.0                5.1               1.8   \n",
      "\n",
      "     target  naive_bayes_scratch_pred  naive_bayes_sklearn_pred  \n",
      "0         0                         0                         0  \n",
      "1         0                         0                         0  \n",
      "2         0                         0                         0  \n",
      "3         0                         0                         0  \n",
      "4         0                         0                         0  \n",
      "..      ...                       ...                       ...  \n",
      "145       2                         2                         2  \n",
      "146       2                         2                         2  \n",
      "147       2                         2                         2  \n",
      "148       2                         2                         2  \n",
      "149       2                         2                         2  \n",
      "\n",
      "[150 rows x 7 columns]\n"
     ]
    }
   ],
   "source": [
    "# Display the DataFrame\n",
    "print(\"Updated DataFrame:\")\n",
    "print(iris_df)"
   ]
  }
 ],
 "metadata": {
  "kernelspec": {
   "display_name": "Python 3",
   "language": "python",
   "name": "python3"
  },
  "language_info": {
   "codemirror_mode": {
    "name": "ipython",
    "version": 3
   },
   "file_extension": ".py",
   "mimetype": "text/x-python",
   "name": "python",
   "nbconvert_exporter": "python",
   "pygments_lexer": "ipython3",
   "version": "3.11.4"
  },
  "orig_nbformat": 4
 },
 "nbformat": 4,
 "nbformat_minor": 2
}
